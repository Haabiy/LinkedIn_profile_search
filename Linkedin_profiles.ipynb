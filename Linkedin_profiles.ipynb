{
 "cells": [
  {
   "cell_type": "code",
   "execution_count": 7,
   "id": "a6611a9b",
   "metadata": {},
   "outputs": [],
   "source": [
    "import requests\n",
    "import pandas as pd\n",
    "from bs4 import BeautifulSoup\n",
    "from selenium import webdriver\n",
    "from webdriver_manager.chrome import ChromeDriverManager\n",
    "from selenium.webdriver.common.by import By\n",
    "import numpy as np\n",
    "from time import sleep"
   ]
  },
  {
   "cell_type": "code",
   "execution_count": 54,
   "id": "9dd6d3d5",
   "metadata": {},
   "outputs": [
    {
     "name": "stderr",
     "output_type": "stream",
     "text": [
      "\n",
      "\n",
      "====== WebDriver manager ======\n",
      "Current google-chrome version is 101.0.4951\n",
      "Get LATEST chromedriver version for 101.0.4951 google-chrome\n",
      "Driver [C:\\Users\\adema\\.wdm\\drivers\\chromedriver\\win32\\101.0.4951.41\\chromedriver.exe] found in cache\n",
      "C:\\Users\\adema\\AppData\\Local\\Temp\\ipykernel_21612\\1005675797.py:1: DeprecationWarning: executable_path has been deprecated, please pass in a Service object\n",
      "  driver = webdriver.Chrome(ChromeDriverManager().install())\n"
     ]
    }
   ],
   "source": [
    "# Chrome as my web browser\n",
    "driver = webdriver.Chrome(ChromeDriverManager().install())\n",
    "url = 'https://www.linkedin.com/uas/login?session_redirect=/sales&fromSignIn=true&trk=navigator'\n",
    "driver.get(url)"
   ]
  },
  {
   "cell_type": "code",
   "execution_count": 55,
   "id": "0a3edf71",
   "metadata": {},
   "outputs": [],
   "source": [
    "# Locate the two boxes to enter your credentials(email and password) into and one to submit(sign in)\n",
    "email = driver.find_element(By.ID, (\"username\"))\n",
    "password = driver.find_element(By.ID, (\"password\"))\n",
    "login = driver.find_element(By.XPATH, '//*[@id=\"app__container\"]/main/div[3]/form/div[3]/button')"
   ]
  },
  {
   "cell_type": "code",
   "execution_count": 56,
   "id": "82496a71",
   "metadata": {},
   "outputs": [],
   "source": [
    "# Include a .txt named Authentication\n",
    "# Index = 0 for your email and index = 1 for your password\n",
    "credentials = open('./Authentication.txt')\n",
    "readcredentials = credentials.readlines()\n",
    "myemail = readcredentials[0]\n",
    "mypassword = readcredentials[1]\n",
    "\n",
    "# Make sure you clear the two input boxes\n",
    "email.clear()\n",
    "password.clear()\n",
    "\n",
    "# send_keys :  enters the credentials you specified on the text file\n",
    "# submit method will turn in your email and password\n",
    "email.send_keys(myemail)\n",
    "password.send_keys(mypassword)\n",
    "login.submit()"
   ]
  },
  {
   "cell_type": "code",
   "execution_count": null,
   "id": "d660f90d",
   "metadata": {},
   "outputs": [],
   "source": []
  }
 ],
 "metadata": {
  "kernelspec": {
   "display_name": "Python 3 (ipykernel)",
   "language": "python",
   "name": "python3"
  },
  "language_info": {
   "codemirror_mode": {
    "name": "ipython",
    "version": 3
   },
   "file_extension": ".py",
   "mimetype": "text/x-python",
   "name": "python",
   "nbconvert_exporter": "python",
   "pygments_lexer": "ipython3",
   "version": "3.10.4"
  }
 },
 "nbformat": 4,
 "nbformat_minor": 5
}
