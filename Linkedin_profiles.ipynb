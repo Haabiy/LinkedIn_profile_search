{
 "cells": [
  {
   "cell_type": "markdown",
   "id": "543eb9a7",
   "metadata": {},
   "source": [
    "### <font color='#8db0f0'>1. LinkedIn sales navigator : search for Leads</font> "
   ]
  },
  {
   "cell_type": "code",
   "execution_count": 85,
   "id": "a6611a9b",
   "metadata": {},
   "outputs": [],
   "source": [
    "from bs4 import BeautifulSoup\n",
    "from selenium import webdriver\n",
    "from webdriver_manager.chrome import ChromeDriverManager\n",
    "from selenium.webdriver.common.by import By\n",
    "from selenium.webdriver.common.keys import Keys\n",
    "from time import sleep"
   ]
  },
  {
   "cell_type": "markdown",
   "id": "8f4dec8b",
   "metadata": {},
   "source": [
    "#### <font color='#8db0f0'> 1.1 Log in</font> "
   ]
  },
  {
   "cell_type": "code",
   "execution_count": 86,
   "id": "9dd6d3d5",
   "metadata": {},
   "outputs": [
    {
     "name": "stderr",
     "output_type": "stream",
     "text": [
      "\n",
      "\n",
      "====== WebDriver manager ======\n",
      "Current google-chrome version is 101.0.4951\n",
      "Get LATEST chromedriver version for 101.0.4951 google-chrome\n",
      "Driver [C:\\Users\\adema\\.wdm\\drivers\\chromedriver\\win32\\101.0.4951.41\\chromedriver.exe] found in cache\n",
      "C:\\Users\\adema\\AppData\\Local\\Temp\\ipykernel_21612\\2285113372.py:2: DeprecationWarning: executable_path has been deprecated, please pass in a Service object\n",
      "  driver = webdriver.Chrome(ChromeDriverManager().install())\n"
     ]
    }
   ],
   "source": [
    "# Chrome as my web browser\n",
    "driver = webdriver.Chrome(ChromeDriverManager().install())\n",
    "url = 'https://www.linkedin.com/uas/login?session_redirect=/sales&fromSignIn=true&trk=navigator'\n",
    "driver.get(url)"
   ]
  },
  {
   "cell_type": "code",
   "execution_count": 87,
   "id": "30b1dbeb",
   "metadata": {},
   "outputs": [],
   "source": [
    "# Locate the two boxes to enter your credentials(email and password) into and the remaining one to submit(sign in button)\n",
    "email = driver.find_element(By.ID, (\"username\"))\n",
    "password = driver.find_element(By.ID, (\"password\"))\n",
    "login = driver.find_element(By.XPATH, '//*[@id=\"app__container\"]/main/div[3]/form/div[3]/button')"
   ]
  },
  {
   "cell_type": "code",
   "execution_count": 88,
   "id": "f5c51844",
   "metadata": {},
   "outputs": [],
   "source": [
    "def login():\n",
    "    # Include a .txt named Authentication\n",
    "    # Index = 0 for your email and index = 1 for your password\n",
    "    opencredentials = open('./Authentication.txt')\n",
    "    credentials = opencredentials.readlines()\n",
    "    myemail = credentials[0]\n",
    "    mypassword = credentials[1]\n",
    "\n",
    "    # Make sure you clear the two input boxes\n",
    "    email.clear()\n",
    "    password.clear()\n",
    "\n",
    "    # send_keys :  enters the credentials you specified on the text file\n",
    "    # Keys.RETURN == PRESSING ENTER on the keyboard\n",
    "    email.send_keys(myemail)\n",
    "    password.send_keys(mypassword)\n",
    "    password.send_keys(Keys.RETURN)\n",
    "    #login.submit()"
   ]
  },
  {
   "cell_type": "code",
   "execution_count": 89,
   "id": "39efaa87",
   "metadata": {},
   "outputs": [],
   "source": [
    "login()"
   ]
  },
  {
   "cell_type": "code",
   "execution_count": 91,
   "id": "b0b99b89",
   "metadata": {},
   "outputs": [],
   "source": [
    "search_bar = driver.find_element(By.XPATH, '//*[@id=\"global-typeahead-search-input\"]')\n",
    "df = 'hello'\n",
    "search_bar.send_keys(df)"
   ]
  },
  {
   "cell_type": "code",
   "execution_count": null,
   "id": "56829d5f",
   "metadata": {},
   "outputs": [],
   "source": []
  },
  {
   "cell_type": "code",
   "execution_count": null,
   "id": "6ade48bc",
   "metadata": {},
   "outputs": [],
   "source": []
  }
 ],
 "metadata": {
  "kernelspec": {
   "display_name": "Python 3 (ipykernel)",
   "language": "python",
   "name": "python3"
  },
  "language_info": {
   "codemirror_mode": {
    "name": "ipython",
    "version": 3
   },
   "file_extension": ".py",
   "mimetype": "text/x-python",
   "name": "python",
   "nbconvert_exporter": "python",
   "pygments_lexer": "ipython3",
   "version": "3.10.4"
  }
 },
 "nbformat": 4,
 "nbformat_minor": 5
}
