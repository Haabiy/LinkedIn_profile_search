{
 "cells": [
  {
   "cell_type": "markdown",
   "id": "543eb9a7",
   "metadata": {},
   "source": [
    "### <font color='#8db0f0'>1. LinkedIn sales navigator : search for Leads</font> "
   ]
  },
  {
   "cell_type": "code",
   "execution_count": 128,
   "id": "a6611a9b",
   "metadata": {},
   "outputs": [],
   "source": [
    "from bs4 import BeautifulSoup\n",
    "from selenium import webdriver\n",
    "from webdriver_manager.chrome import ChromeDriverManager\n",
    "from selenium.webdriver.common.by import By\n",
    "from selenium.webdriver.common.keys import Keys\n",
    "from time import sleep"
   ]
  },
  {
   "cell_type": "markdown",
   "id": "8f4dec8b",
   "metadata": {},
   "source": [
    "#### <font color='#8db0f0'> 1.1 Log in</font> "
   ]
  },
  {
   "cell_type": "code",
   "execution_count": 146,
   "id": "9dd6d3d5",
   "metadata": {},
   "outputs": [
    {
     "name": "stderr",
     "output_type": "stream",
     "text": [
      "\n",
      "\n",
      "====== WebDriver manager ======\n",
      "Current google-chrome version is 101.0.4951\n",
      "Get LATEST chromedriver version for 101.0.4951 google-chrome\n",
      "Driver [C:\\Users\\adema\\.wdm\\drivers\\chromedriver\\win32\\101.0.4951.41\\chromedriver.exe] found in cache\n",
      "C:\\Users\\adema\\AppData\\Local\\Temp\\ipykernel_7080\\2285113372.py:2: DeprecationWarning: executable_path has been deprecated, please pass in a Service object\n",
      "  driver = webdriver.Chrome(ChromeDriverManager().install())\n"
     ]
    }
   ],
   "source": [
    "# Chrome as my web browser\n",
    "driver = webdriver.Chrome(ChromeDriverManager().install())\n",
    "url = 'https://www.linkedin.com/uas/login?session_redirect=/sales&fromSignIn=true&trk=navigator'\n",
    "driver.get(url)"
   ]
  },
  {
   "cell_type": "code",
   "execution_count": 147,
   "id": "30b1dbeb",
   "metadata": {},
   "outputs": [],
   "source": [
    "# Locate the two boxes to enter your credentials(email and password) into and the remaining one to submit(sign in button)\n",
    "email = driver.find_element(By.ID, (\"username\"))\n",
    "password = driver.find_element(By.ID, (\"password\"))\n",
    "login = driver.find_element(By.XPATH, '//*[@id=\"app__container\"]/main/div[3]/form/div[3]/button')"
   ]
  },
  {
   "cell_type": "code",
   "execution_count": 148,
   "id": "f5c51844",
   "metadata": {},
   "outputs": [],
   "source": [
    "def login():\n",
    "    # Include a .txt named Authentication\n",
    "    # Index = 0 for your email and index = 1 for your password\n",
    "    opencredentials = open('./Authentication.txt')\n",
    "    credentials = opencredentials.readlines()\n",
    "    myemail = credentials[0]\n",
    "    mypassword = credentials[1]\n",
    "\n",
    "    # Make sure you clear the two input boxes\n",
    "    email.clear()\n",
    "    password.clear()\n",
    "\n",
    "    # send_keys :  enters the credentials you specified on the text file\n",
    "    # Keys.RETURN == PRESSING ENTER on the keyboard\n",
    "    email.send_keys(myemail)\n",
    "    password.send_keys(mypassword)\n",
    "    password.send_keys(Keys.RETURN)\n",
    "    #login.submit()"
   ]
  },
  {
   "cell_type": "code",
   "execution_count": 149,
   "id": "39efaa87",
   "metadata": {},
   "outputs": [],
   "source": [
    "login()"
   ]
  },
  {
   "cell_type": "code",
   "execution_count": 150,
   "id": "b0b99b89",
   "metadata": {},
   "outputs": [],
   "source": [
    "sleep(3)\n",
    "search_bar = driver.find_element(By.XPATH, '//*[@id=\"global-typeahead-search-input\"]')\n",
    "industry_list = open('./Industry.txt', encoding='utf-8')\n",
    "list_names = industry_list.readlines()\n",
    "names = list_names[0]\n",
    "search_bar.send_keys(names)\n",
    "search_bar.send_keys(Keys.RETURN)"
   ]
  },
  {
   "cell_type": "code",
   "execution_count": 151,
   "id": "56829d5f",
   "metadata": {},
   "outputs": [],
   "source": [
    "sleep(3)\n",
    "more_filters = driver.find_element(By.XPATH, '//*[@id=\"content-main\"]/div/div[1]/form/div/div[3]/div/button')\n",
    "more_filters.click()"
   ]
  },
  {
   "cell_type": "code",
   "execution_count": null,
   "id": "64217896",
   "metadata": {},
   "outputs": [],
   "source": [
    "# throws an error if the loc is just int: in order to concatenate change the int object to string\n",
    "# https://stackoverflow.com/questions/51252580/how-to-resolve-typeerror-can-only-concatenate-str-not-int-to-str"
   ]
  },
  {
   "cell_type": "code",
   "execution_count": 166,
   "id": "6ade48bc",
   "metadata": {},
   "outputs": [],
   "source": [
    "sleep(3)\n",
    "def input_names(file, loc):\n",
    "    try:\n",
    "        first_name = driver.find_element(By.XPATH, '//*[@id=\"content-main\"]/div/div[1]/form/div/div[4]/fieldset[1]/div/fieldset['+str(loc)+']/div/button/li-icon')\n",
    "        first_name.click()\n",
    "        input_first_name = driver.find_element(By.XPATH, '//*[@id=\"content-main\"]/div/div[1]/form/div/div[4]/fieldset[1]/div/fieldset['+str(loc)+']/div[3]/div/input')\n",
    "        input_first_name.click()\n",
    "        lst_first_names = open('./'+file+'.txt', encoding='utf-8')\n",
    "        read_first_names = lst_first_names.readlines()\n",
    "        fname = read_first_names[0]\n",
    "        input_first_name.send_keys(fname)\n",
    "        input_first_name.send_keys(Keys.RETURN)\n",
    "    \n",
    "    except Exception:\n",
    "        pass\n",
    "\n",
    "input_names('try', 6)\n",
    "input_names('try2', 7)"
   ]
  },
  {
   "cell_type": "code",
   "execution_count": 167,
   "id": "103af6a9",
   "metadata": {},
   "outputs": [],
   "source": [
    "store_urls = []\n",
    "soup = BeautifulSoup(driver.page_source, 'html.parser')\n",
    "def get_urls():\n",
    "    for nameclass in soup.find_all('div', {'class' : 'flex flex-wrap align-items-center'}):\n",
    "        try:\n",
    "            name = nameclass.find_all('a')[0].text.strip()\n",
    "            for link_loc in nameclass.find_all('a', href=True):\n",
    "                global link\n",
    "                link = link_loc['href']\n",
    "                store_urls.append('https://www.linkedin.com'+link)\n",
    "        except Exception:\n",
    "            pass"
   ]
  },
  {
   "cell_type": "code",
   "execution_count": 168,
   "id": "a7a42ef8",
   "metadata": {},
   "outputs": [],
   "source": [
    "get_urls()"
   ]
  },
  {
   "cell_type": "code",
   "execution_count": 169,
   "id": "42e88ad7",
   "metadata": {},
   "outputs": [
    {
     "name": "stdout",
     "output_type": "stream",
     "text": [
      "https://www.linkedin.com/sales/lead/ACwAAC4sKHoBpqpCxPOU3RjGhdFE-AEx7e2Ad7k,NAME_SEARCH,NrDn?_ntb=Hx2GFoRlRO6ExOBdeB6KnA%3D%3D\n"
     ]
    }
   ],
   "source": [
    "for i in range(len(store_urls)):\n",
    "    if store_urls[i] not in store_urls[i + 1:]:\n",
    "        print(store_urls[i])"
   ]
  },
  {
   "cell_type": "code",
   "execution_count": 173,
   "id": "db59ef8b",
   "metadata": {},
   "outputs": [],
   "source": [
    "for urls in store_urls:\n",
    "    driver.get(urls)"
   ]
  },
  {
   "cell_type": "code",
   "execution_count": 174,
   "id": "e75ad43b",
   "metadata": {},
   "outputs": [],
   "source": [
    "soup = BeautifulSoup(driver.page_source, 'html.parser')\n",
    "def get_linkedin_urls():\n",
    "    try:\n",
    "        divclass = soup.find('div', {'class' : '_container_x5gf48 _container_iq15dg _raised_1aegh9'})\n",
    "        for a in divclass.find_all('a', href = True):\n",
    "            print(a['href'])\n",
    "    except Exception:\n",
    "        pass"
   ]
  },
  {
   "cell_type": "code",
   "execution_count": 175,
   "id": "0e198929",
   "metadata": {},
   "outputs": [],
   "source": [
    "get_linkedin_urls()"
   ]
  },
  {
   "cell_type": "code",
   "execution_count": null,
   "id": "897ced20",
   "metadata": {},
   "outputs": [],
   "source": []
  }
 ],
 "metadata": {
  "kernelspec": {
   "display_name": "Python 3 (ipykernel)",
   "language": "python",
   "name": "python3"
  },
  "language_info": {
   "codemirror_mode": {
    "name": "ipython",
    "version": 3
   },
   "file_extension": ".py",
   "mimetype": "text/x-python",
   "name": "python",
   "nbconvert_exporter": "python",
   "pygments_lexer": "ipython3",
   "version": "3.10.4"
  }
 },
 "nbformat": 4,
 "nbformat_minor": 5
}
