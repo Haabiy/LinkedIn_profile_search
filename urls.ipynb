{
 "cells": [
  {
   "cell_type": "markdown",
   "id": "543eb9a7",
   "metadata": {},
   "source": [
    "### <font color='#8db0f0'>1. LinkedIn sales navigator : search for Leads</font> "
   ]
  },
  {
   "cell_type": "code",
   "execution_count": 288,
   "id": "a6611a9b",
   "metadata": {},
   "outputs": [],
   "source": [
    "from bs4 import BeautifulSoup\n",
    "from selenium import webdriver\n",
    "from webdriver_manager.chrome import ChromeDriverManager\n",
    "from selenium.webdriver.common.by import By\n",
    "from selenium.webdriver.common.keys import Keys\n",
    "from time import sleep"
   ]
  },
  {
   "cell_type": "markdown",
   "id": "8f4dec8b",
   "metadata": {},
   "source": [
    "#### <font color='#8db0f0'> 1.1 Log in</font> "
   ]
  },
  {
   "cell_type": "code",
   "execution_count": 606,
   "id": "9dd6d3d5",
   "metadata": {},
   "outputs": [
    {
     "name": "stderr",
     "output_type": "stream",
     "text": [
      "\n",
      "\n",
      "====== WebDriver manager ======\n",
      "Current google-chrome version is 101.0.4951\n",
      "Get LATEST chromedriver version for 101.0.4951 google-chrome\n",
      "Trying to download new driver from https://chromedriver.storage.googleapis.com/101.0.4951.41/chromedriver_win32.zip\n",
      "Driver has been saved in cache [C:\\Users\\adema\\.wdm\\drivers\\chromedriver\\win32\\101.0.4951.41]\n",
      "C:\\Users\\adema\\AppData\\Local\\Temp\\ipykernel_7080\\2285113372.py:2: DeprecationWarning: executable_path has been deprecated, please pass in a Service object\n",
      "  driver = webdriver.Chrome(ChromeDriverManager().install())\n"
     ]
    }
   ],
   "source": [
    "# Chrome as my web browser\n",
    "driver = webdriver.Chrome(ChromeDriverManager().install())\n",
    "url = 'https://www.linkedin.com/uas/login?session_redirect=/sales&fromSignIn=true&trk=navigator'\n",
    "driver.get(url)"
   ]
  },
  {
   "cell_type": "code",
   "execution_count": 607,
   "id": "30b1dbeb",
   "metadata": {},
   "outputs": [],
   "source": [
    "# Locate the two boxes to enter your credentials(email and password) into and the remaining one to submit(sign in button)\n",
    "email = driver.find_element(By.ID, (\"username\"))\n",
    "password = driver.find_element(By.ID, (\"password\"))\n",
    "login = driver.find_element(By.XPATH, '//*[@id=\"app__container\"]/main/div[3]/form/div[3]/button')"
   ]
  },
  {
   "cell_type": "code",
   "execution_count": 608,
   "id": "f5c51844",
   "metadata": {},
   "outputs": [],
   "source": [
    "def login():\n",
    "    # Include a .txt named Authentication\n",
    "    # Index = 0 for your email and index = 1 for your password\n",
    "    opencredentials = open('./Authentication.txt')\n",
    "    credentials = opencredentials.readlines()\n",
    "    myemail = credentials[0]\n",
    "    mypassword = credentials[1]\n",
    "\n",
    "    # Make sure you clear the two input boxes\n",
    "    email.clear()\n",
    "    password.clear()\n",
    "\n",
    "    # send_keys :  enters the credentials you specified on the text file\n",
    "    # Keys.RETURN == PRESSING ENTER on the keyboard\n",
    "    email.send_keys(myemail)\n",
    "    password.send_keys(mypassword)\n",
    "    password.send_keys(Keys.RETURN)\n",
    "    #login.submit()"
   ]
  },
  {
   "cell_type": "code",
   "execution_count": 609,
   "id": "39efaa87",
   "metadata": {},
   "outputs": [],
   "source": [
    "login()"
   ]
  },
  {
   "cell_type": "code",
   "execution_count": 610,
   "id": "b0b99b89",
   "metadata": {},
   "outputs": [],
   "source": [
    "sleep(3)\n",
    "search_bar = driver.find_element(By.XPATH, '//*[@id=\"global-typeahead-search-input\"]')\n",
    "industry_list = open('./Industry.txt', encoding='utf-8')\n",
    "title = industry_list.readlines()"
   ]
  },
  {
   "cell_type": "code",
   "execution_count": 611,
   "id": "db976131",
   "metadata": {},
   "outputs": [],
   "source": [
    "# throws an error if the loc is just int: in order to concatenate change the int object to string\n",
    "# https://stackoverflow.com/questions/51252580/how-to-resolve-typeerror-can-only-concatenate-str-not-int-to-str\n",
    "store_urls = []\n",
    "class class_():\n",
    "\n",
    "    def _search_bar(self, file1, file2, loc1, loc2, title, i):\n",
    "        self.file1 = file1\n",
    "        self.file2 = file2\n",
    "        self.loc1 = loc1\n",
    "        self.loc2 = loc2\n",
    "        self.i = i\n",
    "        lst_first_names = open('./' + self.file1 + '.txt', encoding='utf-8')\n",
    "        read_first_names = lst_first_names.readlines()\n",
    "        sleep(1)\n",
    "        try:\n",
    "            if(self.i!=0):\n",
    "                first_name = driver.find_element(By.XPATH,'//*[@id=\"content-main\"]/div/div[1]/form/div/div[4]/fieldset[1]/div/fieldset[6]/ul/li[1]')\n",
    "                first_name.click()\n",
    "            search_bar = driver.find_element(By.XPATH, '//*[@id=\"global-typeahead-search-input\"]')\n",
    "            search_bar.clear()\n",
    "            search_bar.send_keys(title)\n",
    "            driver.maximize_window()\n",
    "            sleep(3)\n",
    "            if(i==0):\n",
    "                more_filters = driver.find_element(By.XPATH, '//*[@id=\"content-main\"]/div/div[1]/form/div/div[3]/div/button')\n",
    "                more_filters.click()\n",
    "                first_name = driver.find_element(By.XPATH, '//*[@id=\"content-main\"]/div/div[1]/form/div/div[4]/fieldset[1]/div/fieldset[' + str(self.loc1) + ']/div/button/li-icon')\n",
    "                first_name.click()\n",
    "            sleep(3)\n",
    "            fname = read_first_names[self.i]\n",
    "            input_first_name = driver.find_element(By.XPATH, '//*[@id=\"content-main\"]/div/div[1]/form/div/div[4]/fieldset[1]/div/fieldset[6]/div[3]/div/input')\n",
    "            input_first_name.click()\n",
    "            input_first_name.send_keys(fname)\n",
    "            \n",
    "            soup = BeautifulSoup(driver.page_source, 'html.parser')\n",
    "            div = soup.find('div', {'class' : 'flex flex-wrap align-items-center'})\n",
    "            name = div.find_all('a')[0].text.strip()\n",
    "            for link_loc in div.find_all('a', href=True):\n",
    "                link = link_loc['href']\n",
    "                store_urls.append('https://www.linkedin.com'+link)\n",
    "            print(name,'https://www.linkedin.com'+link)\n",
    "        except Exception:\n",
    "            pass"
   ]
  },
  {
   "cell_type": "code",
   "execution_count": null,
   "id": "b83d8ab0",
   "metadata": {},
   "outputs": [],
   "source": [
    "see = class_()\n",
    "for i in range(25):\n",
    "    x = title[i]\n",
    "    see._search_bar('First_names','Last_names',  6, 7, x , i)\n",
    "    sleep(2)\n"
   ]
  },
  {
   "cell_type": "code",
   "execution_count": null,
   "id": "dd996fd0",
   "metadata": {},
   "outputs": [],
   "source": []
  },
  {
   "cell_type": "code",
   "execution_count": null,
   "id": "d109146a",
   "metadata": {},
   "outputs": [],
   "source": [
    "store_urls = []\n",
    "soup = BeautifulSoup(driver.page_source, 'html.parser')\n",
    "def get_urls():\n",
    "    for nameclass in soup.find_all('div', {'class' : 'flex flex-wrap align-items-center'}):\n",
    "        try:\n",
    "            name = nameclass.find_all('a')[0].text.strip()\n",
    "            for link_loc in nameclass.find_all('a', href=True):\n",
    "                global link\n",
    "                link = link_loc['href']\n",
    "                store_urls.append('https://www.linkedin.com'+link)\n",
    "        except Exception:\n",
    "            pass"
   ]
  },
  {
   "cell_type": "code",
   "execution_count": 496,
   "id": "9f028fec",
   "metadata": {},
   "outputs": [],
   "source": [
    "for i in range(len(store_urls)):\n",
    "    if store_urls[i] not in store_urls[i + 1:]:\n",
    "        print(store_urls[i])"
   ]
  },
  {
   "cell_type": "code",
   "execution_count": 497,
   "id": "8b599ba1",
   "metadata": {},
   "outputs": [],
   "source": [
    "linkedin_links = []\n",
    "soup = BeautifulSoup(driver.page_source, 'html.parser')\n",
    "def get_linkedin_urls(urls):\n",
    "    driver.get(urls)\n",
    "    sleep(1)\n",
    "    try:\n",
    "        divclass = soup.find('div', {'class' : '_container_x5gf48 _container_iq15dg _raised_1aegh9'})\n",
    "        for a in divclass.find_all('a', href = True):\n",
    "            print(a['href'])\n",
    "            linkedin_links.append(a['href'])\n",
    "    except Exception:\n",
    "        pass"
   ]
  },
  {
   "cell_type": "code",
   "execution_count": 498,
   "id": "c99e8771",
   "metadata": {},
   "outputs": [],
   "source": [
    "get_urls()"
   ]
  },
  {
   "cell_type": "code",
   "execution_count": 499,
   "id": "dc04b0a8",
   "metadata": {},
   "outputs": [
    {
     "ename": "StaleElementReferenceException",
     "evalue": "Message: stale element reference: element is not attached to the page document\n  (Session info: chrome=101.0.4951.67)\nStacktrace:\nBacktrace:\n\tOrdinal0 [0x00B6B8F3+2406643]\n\tOrdinal0 [0x00AFAF31+1945393]\n\tOrdinal0 [0x009EC748+837448]\n\tOrdinal0 [0x009EF154+848212]\n\tOrdinal0 [0x009EF012+847890]\n\tOrdinal0 [0x009EF2A0+848544]\n\tOrdinal0 [0x00A19DA6+1023398]\n\tOrdinal0 [0x00A19E84+1023620]\n\tOrdinal0 [0x00A12709+993033]\n\tOrdinal0 [0x00A3427C+1131132]\n\tOrdinal0 [0x00A0FA64+981604]\n\tOrdinal0 [0x00A34494+1131668]\n\tOrdinal0 [0x00A44682+1197698]\n\tOrdinal0 [0x00A34096+1130646]\n\tOrdinal0 [0x00A0E636+976438]\n\tOrdinal0 [0x00A0F546+980294]\n\tGetHandleVerifier [0x00DD9612+2498066]\n\tGetHandleVerifier [0x00DCC920+2445600]\n\tGetHandleVerifier [0x00C04F2A+579370]\n\tGetHandleVerifier [0x00C03D36+574774]\n\tOrdinal0 [0x00B01C0B+1973259]\n\tOrdinal0 [0x00B06688+1992328]\n\tOrdinal0 [0x00B06775+1992565]\n\tOrdinal0 [0x00B0F8D1+2029777]\n\tBaseThreadInitThunk [0x7627FA29+25]\n\tRtlGetAppContainerNamedObjectPath [0x77067A7E+286]\n\tRtlGetAppContainerNamedObjectPath [0x77067A4E+238]\n",
     "output_type": "error",
     "traceback": [
      "\u001b[1;31m---------------------------------------------------------------------------\u001b[0m",
      "\u001b[1;31mStaleElementReferenceException\u001b[0m            Traceback (most recent call last)",
      "Input \u001b[1;32mIn [499]\u001b[0m, in \u001b[0;36m<cell line: 1>\u001b[1;34m()\u001b[0m\n\u001b[0;32m      1\u001b[0m \u001b[38;5;28;01mfor\u001b[39;00m names \u001b[38;5;129;01min\u001b[39;00m list_names:\n\u001b[1;32m----> 2\u001b[0m     \u001b[43mall_\u001b[49m\u001b[43m(\u001b[49m\u001b[43mnames\u001b[49m\u001b[43m)\u001b[49m\n",
      "Input \u001b[1;32mIn [262]\u001b[0m, in \u001b[0;36mall_\u001b[1;34m(names)\u001b[0m\n\u001b[0;32m      1\u001b[0m \u001b[38;5;28;01mdef\u001b[39;00m \u001b[38;5;21mall_\u001b[39m(names):\n\u001b[1;32m----> 2\u001b[0m     \u001b[43msearch_bar\u001b[49m\u001b[38;5;241;43m.\u001b[39;49m\u001b[43msend_keys\u001b[49m\u001b[43m(\u001b[49m\u001b[43mnames\u001b[49m\u001b[43m)\u001b[49m\n\u001b[0;32m      3\u001b[0m     search_bar\u001b[38;5;241m.\u001b[39msend_keys(Keys\u001b[38;5;241m.\u001b[39mRETURN)\n\u001b[0;32m      4\u001b[0m     sleep(\u001b[38;5;241m3\u001b[39m)\n",
      "File \u001b[1;32m~\\AppData\\Local\\Programs\\Python\\Python310\\lib\\site-packages\\selenium\\webdriver\\remote\\webelement.py:540\u001b[0m, in \u001b[0;36mWebElement.send_keys\u001b[1;34m(self, *value)\u001b[0m\n\u001b[0;32m    537\u001b[0m             remote_files\u001b[38;5;241m.\u001b[39mappend(\u001b[38;5;28mself\u001b[39m\u001b[38;5;241m.\u001b[39m_upload(file))\n\u001b[0;32m    538\u001b[0m         value \u001b[38;5;241m=\u001b[39m \u001b[38;5;124m'\u001b[39m\u001b[38;5;130;01m\\n\u001b[39;00m\u001b[38;5;124m'\u001b[39m\u001b[38;5;241m.\u001b[39mjoin(remote_files)\n\u001b[1;32m--> 540\u001b[0m \u001b[38;5;28;43mself\u001b[39;49m\u001b[38;5;241;43m.\u001b[39;49m\u001b[43m_execute\u001b[49m\u001b[43m(\u001b[49m\u001b[43mCommand\u001b[49m\u001b[38;5;241;43m.\u001b[39;49m\u001b[43mSEND_KEYS_TO_ELEMENT\u001b[49m\u001b[43m,\u001b[49m\n\u001b[0;32m    541\u001b[0m \u001b[43m              \u001b[49m\u001b[43m{\u001b[49m\u001b[38;5;124;43m'\u001b[39;49m\u001b[38;5;124;43mtext\u001b[39;49m\u001b[38;5;124;43m'\u001b[39;49m\u001b[43m:\u001b[49m\u001b[43m \u001b[49m\u001b[38;5;124;43m\"\u001b[39;49m\u001b[38;5;124;43m\"\u001b[39;49m\u001b[38;5;241;43m.\u001b[39;49m\u001b[43mjoin\u001b[49m\u001b[43m(\u001b[49m\u001b[43mkeys_to_typing\u001b[49m\u001b[43m(\u001b[49m\u001b[43mvalue\u001b[49m\u001b[43m)\u001b[49m\u001b[43m)\u001b[49m\u001b[43m,\u001b[49m\n\u001b[0;32m    542\u001b[0m \u001b[43m               \u001b[49m\u001b[38;5;124;43m'\u001b[39;49m\u001b[38;5;124;43mvalue\u001b[39;49m\u001b[38;5;124;43m'\u001b[39;49m\u001b[43m:\u001b[49m\u001b[43m \u001b[49m\u001b[43mkeys_to_typing\u001b[49m\u001b[43m(\u001b[49m\u001b[43mvalue\u001b[49m\u001b[43m)\u001b[49m\u001b[43m}\u001b[49m\u001b[43m)\u001b[49m\n",
      "File \u001b[1;32m~\\AppData\\Local\\Programs\\Python\\Python310\\lib\\site-packages\\selenium\\webdriver\\remote\\webelement.py:710\u001b[0m, in \u001b[0;36mWebElement._execute\u001b[1;34m(self, command, params)\u001b[0m\n\u001b[0;32m    708\u001b[0m     params \u001b[38;5;241m=\u001b[39m {}\n\u001b[0;32m    709\u001b[0m params[\u001b[38;5;124m'\u001b[39m\u001b[38;5;124mid\u001b[39m\u001b[38;5;124m'\u001b[39m] \u001b[38;5;241m=\u001b[39m \u001b[38;5;28mself\u001b[39m\u001b[38;5;241m.\u001b[39m_id\n\u001b[1;32m--> 710\u001b[0m \u001b[38;5;28;01mreturn\u001b[39;00m \u001b[38;5;28;43mself\u001b[39;49m\u001b[38;5;241;43m.\u001b[39;49m\u001b[43m_parent\u001b[49m\u001b[38;5;241;43m.\u001b[39;49m\u001b[43mexecute\u001b[49m\u001b[43m(\u001b[49m\u001b[43mcommand\u001b[49m\u001b[43m,\u001b[49m\u001b[43m \u001b[49m\u001b[43mparams\u001b[49m\u001b[43m)\u001b[49m\n",
      "File \u001b[1;32m~\\AppData\\Local\\Programs\\Python\\Python310\\lib\\site-packages\\selenium\\webdriver\\remote\\webdriver.py:425\u001b[0m, in \u001b[0;36mWebDriver.execute\u001b[1;34m(self, driver_command, params)\u001b[0m\n\u001b[0;32m    423\u001b[0m response \u001b[38;5;241m=\u001b[39m \u001b[38;5;28mself\u001b[39m\u001b[38;5;241m.\u001b[39mcommand_executor\u001b[38;5;241m.\u001b[39mexecute(driver_command, params)\n\u001b[0;32m    424\u001b[0m \u001b[38;5;28;01mif\u001b[39;00m response:\n\u001b[1;32m--> 425\u001b[0m     \u001b[38;5;28;43mself\u001b[39;49m\u001b[38;5;241;43m.\u001b[39;49m\u001b[43merror_handler\u001b[49m\u001b[38;5;241;43m.\u001b[39;49m\u001b[43mcheck_response\u001b[49m\u001b[43m(\u001b[49m\u001b[43mresponse\u001b[49m\u001b[43m)\u001b[49m\n\u001b[0;32m    426\u001b[0m     response[\u001b[38;5;124m'\u001b[39m\u001b[38;5;124mvalue\u001b[39m\u001b[38;5;124m'\u001b[39m] \u001b[38;5;241m=\u001b[39m \u001b[38;5;28mself\u001b[39m\u001b[38;5;241m.\u001b[39m_unwrap_value(\n\u001b[0;32m    427\u001b[0m         response\u001b[38;5;241m.\u001b[39mget(\u001b[38;5;124m'\u001b[39m\u001b[38;5;124mvalue\u001b[39m\u001b[38;5;124m'\u001b[39m, \u001b[38;5;28;01mNone\u001b[39;00m))\n\u001b[0;32m    428\u001b[0m     \u001b[38;5;28;01mreturn\u001b[39;00m response\n",
      "File \u001b[1;32m~\\AppData\\Local\\Programs\\Python\\Python310\\lib\\site-packages\\selenium\\webdriver\\remote\\errorhandler.py:247\u001b[0m, in \u001b[0;36mErrorHandler.check_response\u001b[1;34m(self, response)\u001b[0m\n\u001b[0;32m    245\u001b[0m         alert_text \u001b[38;5;241m=\u001b[39m value[\u001b[38;5;124m'\u001b[39m\u001b[38;5;124malert\u001b[39m\u001b[38;5;124m'\u001b[39m]\u001b[38;5;241m.\u001b[39mget(\u001b[38;5;124m'\u001b[39m\u001b[38;5;124mtext\u001b[39m\u001b[38;5;124m'\u001b[39m)\n\u001b[0;32m    246\u001b[0m     \u001b[38;5;28;01mraise\u001b[39;00m exception_class(message, screen, stacktrace, alert_text)  \u001b[38;5;66;03m# type: ignore[call-arg]  # mypy is not smart enough here\u001b[39;00m\n\u001b[1;32m--> 247\u001b[0m \u001b[38;5;28;01mraise\u001b[39;00m exception_class(message, screen, stacktrace)\n",
      "\u001b[1;31mStaleElementReferenceException\u001b[0m: Message: stale element reference: element is not attached to the page document\n  (Session info: chrome=101.0.4951.67)\nStacktrace:\nBacktrace:\n\tOrdinal0 [0x00B6B8F3+2406643]\n\tOrdinal0 [0x00AFAF31+1945393]\n\tOrdinal0 [0x009EC748+837448]\n\tOrdinal0 [0x009EF154+848212]\n\tOrdinal0 [0x009EF012+847890]\n\tOrdinal0 [0x009EF2A0+848544]\n\tOrdinal0 [0x00A19DA6+1023398]\n\tOrdinal0 [0x00A19E84+1023620]\n\tOrdinal0 [0x00A12709+993033]\n\tOrdinal0 [0x00A3427C+1131132]\n\tOrdinal0 [0x00A0FA64+981604]\n\tOrdinal0 [0x00A34494+1131668]\n\tOrdinal0 [0x00A44682+1197698]\n\tOrdinal0 [0x00A34096+1130646]\n\tOrdinal0 [0x00A0E636+976438]\n\tOrdinal0 [0x00A0F546+980294]\n\tGetHandleVerifier [0x00DD9612+2498066]\n\tGetHandleVerifier [0x00DCC920+2445600]\n\tGetHandleVerifier [0x00C04F2A+579370]\n\tGetHandleVerifier [0x00C03D36+574774]\n\tOrdinal0 [0x00B01C0B+1973259]\n\tOrdinal0 [0x00B06688+1992328]\n\tOrdinal0 [0x00B06775+1992565]\n\tOrdinal0 [0x00B0F8D1+2029777]\n\tBaseThreadInitThunk [0x7627FA29+25]\n\tRtlGetAppContainerNamedObjectPath [0x77067A7E+286]\n\tRtlGetAppContainerNamedObjectPath [0x77067A4E+238]\n"
     ]
    }
   ],
   "source": [
    "for names in list_names:\n",
    "    all_(names)"
   ]
  },
  {
   "cell_type": "code",
   "execution_count": 220,
   "id": "7fbd8b6e",
   "metadata": {},
   "outputs": [
    {
     "name": "stdout",
     "output_type": "stream",
     "text": [
      "https://www.linkedin.com/in/no%C3%A9mie-rousset-536516197\n"
     ]
    }
   ],
   "source": [
    "for urls in store_urls:\n",
    "    get_linkedin_urls(urls)"
   ]
  },
  {
   "cell_type": "code",
   "execution_count": 219,
   "id": "4524297a",
   "metadata": {},
   "outputs": [
    {
     "name": "stdout",
     "output_type": "stream",
     "text": [
      "https://www.linkedin.com/in/no%C3%A9mie-rousset-536516197\n"
     ]
    }
   ],
   "source": [
    "for ff in linkedin_links:\n",
    "    print(ff)"
   ]
  },
  {
   "cell_type": "code",
   "execution_count": null,
   "id": "dcad67a7",
   "metadata": {},
   "outputs": [],
   "source": []
  }
 ],
 "metadata": {
  "kernelspec": {
   "display_name": "Python 3 (ipykernel)",
   "language": "python",
   "name": "python3"
  },
  "language_info": {
   "codemirror_mode": {
    "name": "ipython",
    "version": 3
   },
   "file_extension": ".py",
   "mimetype": "text/x-python",
   "name": "python",
   "nbconvert_exporter": "python",
   "pygments_lexer": "ipython3",
   "version": "3.10.4"
  }
 },
 "nbformat": 4,
 "nbformat_minor": 5
}
