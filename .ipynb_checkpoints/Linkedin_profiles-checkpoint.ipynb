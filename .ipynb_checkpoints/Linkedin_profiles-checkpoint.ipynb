{
 "cells": [
  {
   "cell_type": "markdown",
   "id": "543eb9a7",
   "metadata": {},
   "source": [
    "### <font color='#8db0f0'>1. LinkedIn sales navigator : search for Leads</font> "
   ]
  },
  {
   "cell_type": "code",
   "execution_count": 32,
   "id": "a6611a9b",
   "metadata": {},
   "outputs": [],
   "source": [
    "from bs4 import BeautifulSoup\n",
    "from selenium import webdriver\n",
    "from webdriver_manager.chrome import ChromeDriverManager\n",
    "from selenium.webdriver.common.by import By\n",
    "from selenium.webdriver.common.keys import Keys\n",
    "from iteration_utilities import unique_everseen\n",
    "from time import sleep"
   ]
  },
  {
   "cell_type": "markdown",
   "id": "8f4dec8b",
   "metadata": {},
   "source": [
    "#### <font color='#8db0f0'> 1.1 Log in</font> "
   ]
  },
  {
   "cell_type": "code",
   "execution_count": 2,
   "id": "9dd6d3d5",
   "metadata": {},
   "outputs": [
    {
     "name": "stderr",
     "output_type": "stream",
     "text": [
      "\n",
      "\n",
      "====== WebDriver manager ======\n",
      "Current google-chrome version is 101.0.4951\n",
      "Get LATEST chromedriver version for 101.0.4951 google-chrome\n",
      "Driver [C:\\Users\\adema\\.wdm\\drivers\\chromedriver\\win32\\101.0.4951.41\\chromedriver.exe] found in cache\n",
      "C:\\Users\\adema\\AppData\\Local\\Temp\\ipykernel_7080\\2285113372.py:2: DeprecationWarning: executable_path has been deprecated, please pass in a Service object\n",
      "  driver = webdriver.Chrome(ChromeDriverManager().install())\n"
     ]
    }
   ],
   "source": [
    "# Chrome as my web browser\n",
    "driver = webdriver.Chrome(ChromeDriverManager().install())\n",
    "url = 'https://www.linkedin.com/uas/login?session_redirect=/sales&fromSignIn=true&trk=navigator'\n",
    "driver.get(url)"
   ]
  },
  {
   "cell_type": "code",
   "execution_count": 3,
   "id": "30b1dbeb",
   "metadata": {},
   "outputs": [],
   "source": [
    "# Locate the two boxes to enter your credentials(email and password) into and the remaining one to submit(sign in button)\n",
    "email = driver.find_element(By.ID, (\"username\"))\n",
    "password = driver.find_element(By.ID, (\"password\"))\n",
    "login = driver.find_element(By.XPATH, '//*[@id=\"app__container\"]/main/div[3]/form/div[3]/button')"
   ]
  },
  {
   "cell_type": "code",
   "execution_count": 4,
   "id": "f5c51844",
   "metadata": {},
   "outputs": [],
   "source": [
    "def login():\n",
    "    # Include a .txt named Authentication\n",
    "    # Index = 0 for your email and index = 1 for your password\n",
    "    opencredentials = open('./Authentication.txt')\n",
    "    credentials = opencredentials.readlines()\n",
    "    myemail = credentials[0]\n",
    "    mypassword = credentials[1]\n",
    "\n",
    "    # Make sure you clear the two input boxes\n",
    "    email.clear()\n",
    "    password.clear()\n",
    "\n",
    "    # send_keys :  enters the credentials you specified on the text file\n",
    "    # Keys.RETURN == PRESSING ENTER on the keyboard\n",
    "    email.send_keys(myemail)\n",
    "    password.send_keys(mypassword)\n",
    "    password.send_keys(Keys.RETURN)\n",
    "    #login.submit()"
   ]
  },
  {
   "cell_type": "code",
   "execution_count": 5,
   "id": "39efaa87",
   "metadata": {},
   "outputs": [],
   "source": [
    "login()"
   ]
  },
  {
   "cell_type": "code",
   "execution_count": 6,
   "id": "b0b99b89",
   "metadata": {},
   "outputs": [],
   "source": [
    "sleep(3)\n",
    "search_bar = driver.find_element(By.XPATH, '//*[@id=\"global-typeahead-search-input\"]')\n",
    "industry_list = open('./Industry.txt', encoding='utf-8')\n",
    "list_names = industry_list.readlines()\n",
    "names = list_names[0]\n",
    "search_bar.send_keys(names)\n",
    "search_bar.send_keys(Keys.RETURN)"
   ]
  },
  {
   "cell_type": "code",
   "execution_count": 8,
   "id": "56829d5f",
   "metadata": {},
   "outputs": [],
   "source": [
    "sleep(3)\n",
    "more_filters = driver.find_element(By.XPATH, '//*[@id=\"content-main\"]/div/div[1]/form/div/div[3]/div/button')\n",
    "more_filters.click()"
   ]
  },
  {
   "cell_type": "code",
   "execution_count": 14,
   "id": "6ade48bc",
   "metadata": {},
   "outputs": [],
   "source": [
    "sleep(3)\n",
    "first_name = driver.find_element(By.XPATH, '//*[@id=\"content-main\"]/div/div[1]/form/div/div[4]/fieldset[1]/div/fieldset[6]/div/button/li-icon')\n",
    "first_name.click()\n",
    "input_first_name = driver.find_element(By.XPATH, '//*[@id=\"content-main\"]/div/div[1]/form/div/div[4]/fieldset[1]/div/fieldset[6]/div[3]/div/input')\n",
    "input_first_name.click()\n",
    "lst_first_names = open('./try.txt', encoding='utf-8')\n",
    "read_first_names = lst_first_names.readlines()\n",
    "fname = read_first_names[0]\n",
    "input_first_name.send_keys(fname)\n",
    "input_first_name.send_keys(Keys.RETURN)\n",
    "\n",
    "last_name = driver.find_element(By.XPATH, '//*[@id=\"content-main\"]/div/div[1]/form/div/div[4]/fieldset[1]/div/fieldset[7]/div/button/li-icon')\n",
    "last_name.click()\n",
    "input_last_name = driver.find_element(By.XPATH, '//*[@id=\"content-main\"]/div/div[1]/form/div/div[4]/fieldset[1]/div/fieldset[7]/div[3]/div/input')\n",
    "input_last_name.click()\n",
    "list_last_name = open('./try2.txt', encoding='utf-8')\n",
    "read_last_names = list_last_name.readlines()\n",
    "lname = read_last_names[0]\n",
    "input_last_name.send_keys(lname)\n",
    "input_last_name.send_keys(Keys.RETURN)"
   ]
  },
  {
   "cell_type": "code",
   "execution_count": 82,
   "id": "103af6a9",
   "metadata": {},
   "outputs": [],
   "source": [
    "store_urls = []\n",
    "soup = BeautifulSoup(driver.page_source, 'html.parser')\n",
    "def get_urls():\n",
    "    for nameclass in soup.find_all('div', {'class' : 'flex flex-wrap align-items-center'}):\n",
    "        try:\n",
    "            name = nameclass.find_all('a')[0].text.strip()\n",
    "            for link_loc in nameclass.find_all('a', href=True):\n",
    "                global link\n",
    "                link = link_loc['href']\n",
    "                store_urls.append('https://www.linkedin.com'+link)\n",
    "        except Exception:\n",
    "            pass\n",
    "    return store_urls"
   ]
  },
  {
   "cell_type": "code",
   "execution_count": 87,
   "id": "f3f5ab02",
   "metadata": {},
   "outputs": [],
   "source": [
    "x = get_urls()"
   ]
  },
  {
   "cell_type": "code",
   "execution_count": 88,
   "id": "506ecf53",
   "metadata": {},
   "outputs": [
    {
     "name": "stdout",
     "output_type": "stream",
     "text": [
      "https://www.linkedin.com/sales/lead/ACwAAC4sKHoBpqpCxPOU3RjGhdFE-AEx7e2Ad7k,NAME_SEARCH,NrDn?_ntb=OHJizb5VSCi9t6SbiU4NrQ%3D%3D\n",
      "https://www.linkedin.com/sales/lead/ACwAAC4sKHoBpqpCxPOU3RjGhdFE-AEx7e2Ad7k,NAME_SEARCH,NrDn?_ntb=OHJizb5VSCi9t6SbiU4NrQ%3D%3D\n",
      "https://www.linkedin.com/sales/lead/ACwAAC4sKHoBpqpCxPOU3RjGhdFE-AEx7e2Ad7k,NAME_SEARCH,NrDn?_ntb=OHJizb5VSCi9t6SbiU4NrQ%3D%3D\n",
      "https://www.linkedin.com/sales/lead/ACwAAC4sKHoBpqpCxPOU3RjGhdFE-AEx7e2Ad7k,NAME_SEARCH,NrDn?_ntb=OHJizb5VSCi9t6SbiU4NrQ%3D%3D\n",
      "https://www.linkedin.com/sales/lead/ACwAAC4sKHoBpqpCxPOU3RjGhdFE-AEx7e2Ad7k,NAME_SEARCH,NrDn?_ntb=OHJizb5VSCi9t6SbiU4NrQ%3D%3D\n"
     ]
    }
   ],
   "source": [
    "for links in x:\n",
    "    print(links)"
   ]
  },
  {
   "cell_type": "code",
   "execution_count": null,
   "id": "3fd50e29",
   "metadata": {},
   "outputs": [],
   "source": []
  }
 ],
 "metadata": {
  "kernelspec": {
   "display_name": "Python 3 (ipykernel)",
   "language": "python",
   "name": "python3"
  },
  "language_info": {
   "codemirror_mode": {
    "name": "ipython",
    "version": 3
   },
   "file_extension": ".py",
   "mimetype": "text/x-python",
   "name": "python",
   "nbconvert_exporter": "python",
   "pygments_lexer": "ipython3",
   "version": "3.10.4"
  }
 },
 "nbformat": 4,
 "nbformat_minor": 5
}
